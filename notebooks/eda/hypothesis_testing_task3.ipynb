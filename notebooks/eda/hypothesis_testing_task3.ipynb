{
 "cells": [
  {
   "cell_type": "markdown",
   "metadata": {},
   "source": [
    "## Data Preparation\n",
    "\n",
    "Before hypothesis testing, we will perform basic data cleaning to ensure the validity of our statistical tests. This includes:\n",
    "- Handling missing values\n",
    "- Ensuring correct data types\n",
    "- Filtering out invalid or extreme outlier values (if necessary)"
   ]
  },
  {
   "cell_type": "code",
   "execution_count": 4,
   "metadata": {},
   "outputs": [
    {
     "name": "stderr",
     "output_type": "stream",
     "text": [
      "/tmp/ipykernel_33502/830476695.py:5: DtypeWarning: Columns (32,37) have mixed types. Specify dtype option on import or set low_memory=False.\n",
      "  df = pd.read_csv('../../data/raw/insurance_data.txt', sep='|')\n"
     ]
    },
    {
     "name": "stdout",
     "output_type": "stream",
     "text": [
      "Missing values per column:\n",
      " NumberOfVehiclesInFleet    1000098\n",
      "CrossBorder                 999400\n",
      "CustomValueEstimate         779642\n",
      "Rebuilt                     641901\n",
      "Converted                   641901\n",
      "WrittenOff                  641901\n",
      "NewVehicle                  153295\n",
      "Bank                        145961\n",
      "AccountType                  40232\n",
      "Gender                        9536\n",
      "MaritalStatus                 8259\n",
      "NumberOfDoors                  552\n",
      "VehicleType                    552\n",
      "kilowatts                      552\n",
      "cubiccapacity                  552\n",
      "Cylinders                      552\n",
      "Model                          552\n",
      "make                           552\n",
      "VehicleIntroDate               552\n",
      "bodytype                       552\n",
      "mmcode                         552\n",
      "CapitalOutstanding               2\n",
      "dtype: int64\n",
      "<class 'pandas.core.frame.DataFrame'>\n",
      "Index: 987620 entries, 0 to 1000097\n",
      "Data columns (total 52 columns):\n",
      " #   Column                    Non-Null Count   Dtype  \n",
      "---  ------                    --------------   -----  \n",
      " 0   UnderwrittenCoverID       987620 non-null  int64  \n",
      " 1   PolicyID                  987620 non-null  int64  \n",
      " 2   TransactionMonth          987620 non-null  object \n",
      " 3   IsVATRegistered           987620 non-null  bool   \n",
      " 4   Citizenship               987620 non-null  object \n",
      " 5   LegalType                 987620 non-null  object \n",
      " 6   Title                     987620 non-null  object \n",
      " 7   Language                  987620 non-null  object \n",
      " 8   Bank                      843936 non-null  object \n",
      " 9   AccountType               949015 non-null  object \n",
      " 10  MaritalStatus             979437 non-null  object \n",
      " 11  Gender                    978159 non-null  object \n",
      " 12  Country                   987620 non-null  object \n",
      " 13  Province                  987620 non-null  object \n",
      " 14  PostalCode                987620 non-null  int64  \n",
      " 15  MainCrestaZone            987620 non-null  object \n",
      " 16  SubCrestaZone             987620 non-null  object \n",
      " 17  ItemType                  987620 non-null  object \n",
      " 18  mmcode                    987096 non-null  float64\n",
      " 19  VehicleType               987096 non-null  object \n",
      " 20  RegistrationYear          987620 non-null  int64  \n",
      " 21  make                      987096 non-null  object \n",
      " 22  Model                     987096 non-null  object \n",
      " 23  Cylinders                 987096 non-null  float64\n",
      " 24  cubiccapacity             987096 non-null  float64\n",
      " 25  kilowatts                 987096 non-null  float64\n",
      " 26  bodytype                  987096 non-null  object \n",
      " 27  NumberOfDoors             987096 non-null  float64\n",
      " 28  VehicleIntroDate          987096 non-null  object \n",
      " 29  CustomValueEstimate       216097 non-null  float64\n",
      " 30  AlarmImmobiliser          987620 non-null  object \n",
      " 31  TrackingDevice            987620 non-null  object \n",
      " 32  CapitalOutstanding        987618 non-null  object \n",
      " 33  NewVehicle                835040 non-null  object \n",
      " 34  WrittenOff                352335 non-null  object \n",
      " 35  Rebuilt                   352335 non-null  object \n",
      " 36  Converted                 352335 non-null  object \n",
      " 37  CrossBorder               677 non-null     object \n",
      " 38  NumberOfVehiclesInFleet   0 non-null       float64\n",
      " 39  SumInsured                987620 non-null  float64\n",
      " 40  TermFrequency             987620 non-null  object \n",
      " 41  CalculatedPremiumPerTerm  987620 non-null  float64\n",
      " 42  ExcessSelected            987620 non-null  object \n",
      " 43  CoverCategory             987620 non-null  object \n",
      " 44  CoverType                 987620 non-null  object \n",
      " 45  CoverGroup                987620 non-null  object \n",
      " 46  Section                   987620 non-null  object \n",
      " 47  Product                   987620 non-null  object \n",
      " 48  StatutoryClass            987620 non-null  object \n",
      " 49  StatutoryRiskType         987620 non-null  object \n",
      " 50  TotalPremium              987620 non-null  float64\n",
      " 51  TotalClaims               987620 non-null  float64\n",
      "dtypes: bool(1), float64(11), int64(4), object(36)\n",
      "memory usage: 392.8+ MB\n"
     ]
    }
   ],
   "source": [
    "import pandas as pd\n",
    "import numpy as np\n",
    "\n",
    "# Load the raw data\n",
    "df = pd.read_csv('../../data/raw/insurance_data.txt', sep='|')\n",
    "\n",
    "# Check for missing values\n",
    "missing_summary = df.isnull().sum().sort_values(ascending=False)\n",
    "print(\"Missing values per column:\\n\", missing_summary[missing_summary > 0])\n",
    "\n",
    "# Example cleaning steps (customize as needed):\n",
    "# 1. Drop rows with missing TotalPremium or TotalClaims\n",
    "df = df.dropna(subset=['TotalPremium', 'TotalClaims'])\n",
    "\n",
    "# 2. Convert numeric columns to correct types\n",
    "df['TotalPremium'] = pd.to_numeric(df['TotalPremium'], errors='coerce')\n",
    "df['TotalClaims'] = pd.to_numeric(df['TotalClaims'], errors='coerce')\n",
    "\n",
    "# 3. (Optional) Remove extreme outliers if they exist\n",
    "# For example, remove rows where TotalClaims or TotalPremium are above the 99th percentile\n",
    "for col in ['TotalPremium', 'TotalClaims']:\n",
    "    upper = df[col].quantile(0.99)\n",
    "    df = df[df[col] <= upper]\n",
    "\n",
    "# Show cleaned data info\n",
    "df.info()"
   ]
  },
  {
   "cell_type": "markdown",
   "metadata": {},
   "source": [
    "## Data Investigation\n",
    "\n",
    "The initial metrics suggest there are no claims in the dataset. We will investigate the `TotalClaims` column to check for data issues or confirm if this is accurate."
   ]
  },
  {
   "cell_type": "code",
   "execution_count": 6,
   "metadata": {},
   "outputs": [
    {
     "name": "stdout",
     "output_type": "stream",
     "text": [
      "Unique values in TotalClaims: [     0.           -635.48         -256.35       -12002.4122807\n",
      "  -5690.71929825    -72.        ]\n",
      "Summary statistics for TotalClaims:\n",
      "count    987620.000000\n",
      "mean         -0.018891\n",
      "std          13.384111\n",
      "min      -12002.412281\n",
      "25%           0.000000\n",
      "50%           0.000000\n",
      "75%           0.000000\n",
      "max           0.000000\n",
      "Name: TotalClaims, dtype: float64\n",
      "Number of rows with TotalClaims > 0: 0\n"
     ]
    },
    {
     "data": {
      "text/html": [
       "<div>\n",
       "<style scoped>\n",
       "    .dataframe tbody tr th:only-of-type {\n",
       "        vertical-align: middle;\n",
       "    }\n",
       "\n",
       "    .dataframe tbody tr th {\n",
       "        vertical-align: top;\n",
       "    }\n",
       "\n",
       "    .dataframe thead th {\n",
       "        text-align: right;\n",
       "    }\n",
       "</style>\n",
       "<table border=\"1\" class=\"dataframe\">\n",
       "  <thead>\n",
       "    <tr style=\"text-align: right;\">\n",
       "      <th></th>\n",
       "      <th>UnderwrittenCoverID</th>\n",
       "      <th>PolicyID</th>\n",
       "      <th>TransactionMonth</th>\n",
       "      <th>IsVATRegistered</th>\n",
       "      <th>Citizenship</th>\n",
       "      <th>LegalType</th>\n",
       "      <th>Title</th>\n",
       "      <th>Language</th>\n",
       "      <th>Bank</th>\n",
       "      <th>AccountType</th>\n",
       "      <th>...</th>\n",
       "      <th>ExcessSelected</th>\n",
       "      <th>CoverCategory</th>\n",
       "      <th>CoverType</th>\n",
       "      <th>CoverGroup</th>\n",
       "      <th>Section</th>\n",
       "      <th>Product</th>\n",
       "      <th>StatutoryClass</th>\n",
       "      <th>StatutoryRiskType</th>\n",
       "      <th>TotalPremium</th>\n",
       "      <th>TotalClaims</th>\n",
       "    </tr>\n",
       "  </thead>\n",
       "  <tbody>\n",
       "  </tbody>\n",
       "</table>\n",
       "<p>0 rows × 52 columns</p>\n",
       "</div>"
      ],
      "text/plain": [
       "Empty DataFrame\n",
       "Columns: [UnderwrittenCoverID, PolicyID, TransactionMonth, IsVATRegistered, Citizenship, LegalType, Title, Language, Bank, AccountType, MaritalStatus, Gender, Country, Province, PostalCode, MainCrestaZone, SubCrestaZone, ItemType, mmcode, VehicleType, RegistrationYear, make, Model, Cylinders, cubiccapacity, kilowatts, bodytype, NumberOfDoors, VehicleIntroDate, CustomValueEstimate, AlarmImmobiliser, TrackingDevice, CapitalOutstanding, NewVehicle, WrittenOff, Rebuilt, Converted, CrossBorder, NumberOfVehiclesInFleet, SumInsured, TermFrequency, CalculatedPremiumPerTerm, ExcessSelected, CoverCategory, CoverType, CoverGroup, Section, Product, StatutoryClass, StatutoryRiskType, TotalPremium, TotalClaims]\n",
       "Index: []\n",
       "\n",
       "[0 rows x 52 columns]"
      ]
     },
     "execution_count": 6,
     "metadata": {},
     "output_type": "execute_result"
    }
   ],
   "source": [
    "# Check unique values and summary statistics for TotalClaims\n",
    "print(\"Unique values in TotalClaims:\", df['TotalClaims'].unique())\n",
    "print(\"Summary statistics for TotalClaims:\")\n",
    "print(df['TotalClaims'].describe())\n",
    "\n",
    "# Check for non-zero claims\n",
    "non_zero_claims = df[df['TotalClaims'] > 0]\n",
    "print(f\"Number of rows with TotalClaims > 0: {len(non_zero_claims)}\")\n",
    "non_zero_claims.head()"
   ]
  },
  {
   "cell_type": "markdown",
   "metadata": {},
   "source": [
    "## Defining Key Risk Metrics\n",
    "\n",
    "For our hypothesis testing, we will use the following metrics:\n",
    "- **Claim Frequency:** Proportion of policies with at least one claim.\n",
    "- **Claim Severity:** Average claim amount, given a claim occurred.\n",
    "- **Margin:** Difference between TotalPremium and TotalClaims.\n",
    "\n",
    "We will calculate these metrics for the relevant groups (province, zip code, gender) to support our statistical tests."
   ]
  },
  {
   "cell_type": "code",
   "execution_count": 7,
   "metadata": {},
   "outputs": [
    {
     "name": "stdout",
     "output_type": "stream",
     "text": [
      "Overall Claim Frequency: 0.00%\n",
      "Overall Claim Severity: nan\n"
     ]
    },
    {
     "name": "stdout",
     "output_type": "stream",
     "text": [
      "Overall Margin: 52.32\n"
     ]
    }
   ],
   "source": [
    "# Create a binary column for 'has_claim'\n",
    "df['has_claim'] = df['TotalClaims'] > 0\n",
    "\n",
    "# Claim Frequency: proportion of policies with at least one claim\n",
    "claim_frequency = df['has_claim'].mean()\n",
    "print(f\"Overall Claim Frequency: {claim_frequency:.2%}\")\n",
    "\n",
    "# Claim Severity: average claim amount, given a claim occurred\n",
    "claim_severity = df.loc[df['has_claim'], 'TotalClaims'].mean()\n",
    "print(f\"Overall Claim Severity: {claim_severity:.2f}\")\n",
    "\n",
    "# Margin: TotalPremium - TotalClaims\n",
    "df['Margin'] = df['TotalPremium'] - df['TotalClaims']\n",
    "overall_margin = df['Margin'].mean()\n",
    "print(f\"Overall Margin: {overall_margin:.2f}\")"
   ]
  },
  {
   "cell_type": "markdown",
   "metadata": {},
   "source": [
    "## Adjusted Risk Metrics\n",
    "\n",
    "Since all `TotalClaims` values are zero or negative, we will treat any non-zero value (negative or positive) as an indicator that a claim event occurred. For claim severity, we will use the absolute value of `TotalClaims` for non-zero entries. This allows us to proceed with hypothesis testing, but we note this is a workaround and should be validated with business context."
   ]
  },
  {
   "cell_type": "code",
   "execution_count": 8,
   "metadata": {},
   "outputs": [
    {
     "name": "stdout",
     "output_type": "stream",
     "text": [
      "Adjusted Claim Frequency: 0.00%\n",
      "Adjusted Claim Severity: 3731.39\n",
      "Overall Margin: 52.32\n"
     ]
    }
   ],
   "source": [
    "# Treat any non-zero TotalClaims as a claim event\n",
    "df['has_claim'] = df['TotalClaims'] != 0\n",
    "df['abs_claims'] = df['TotalClaims'].abs()\n",
    "\n",
    "# Adjusted Claim Frequency\n",
    "claim_frequency = df['has_claim'].mean()\n",
    "print(f\"Adjusted Claim Frequency: {claim_frequency:.2%}\")\n",
    "\n",
    "# Adjusted Claim Severity (mean of abs_claims where a claim occurred)\n",
    "claim_severity = df.loc[df['has_claim'], 'abs_claims'].mean()\n",
    "print(f\"Adjusted Claim Severity: {claim_severity:.2f}\")\n",
    "\n",
    "# Margin (already calculated)\n",
    "df['Margin'] = df['TotalPremium'] - df['TotalClaims']\n",
    "overall_margin = df['Margin'].mean()\n",
    "print(f\"Overall Margin: {overall_margin:.2f}\")"
   ]
  },
  {
   "cell_type": "markdown",
   "metadata": {},
   "source": [
    "## Hypothesis 1: Risk Differences Across Provinces\n",
    "\n",
    "**Null Hypothesis (H₀):** There are no risk differences across provinces.\n",
    "**Alternative Hypothesis (H₁):** There are significant risk differences across provinces.\n",
    "\n",
    "We will compare claim frequency, claim severity, and margin across provinces using appropriate statistical tests."
   ]
  },
  {
   "cell_type": "code",
   "execution_count": 10,
   "metadata": {},
   "outputs": [
    {
     "data": {
      "text/html": [
       "<div>\n",
       "<style scoped>\n",
       "    .dataframe tbody tr th:only-of-type {\n",
       "        vertical-align: middle;\n",
       "    }\n",
       "\n",
       "    .dataframe tbody tr th {\n",
       "        vertical-align: top;\n",
       "    }\n",
       "\n",
       "    .dataframe thead th {\n",
       "        text-align: right;\n",
       "    }\n",
       "</style>\n",
       "<table border=\"1\" class=\"dataframe\">\n",
       "  <thead>\n",
       "    <tr style=\"text-align: right;\">\n",
       "      <th></th>\n",
       "      <th>Province</th>\n",
       "      <th>claim_frequency</th>\n",
       "      <th>claim_severity</th>\n",
       "      <th>margin</th>\n",
       "      <th>count</th>\n",
       "    </tr>\n",
       "  </thead>\n",
       "  <tbody>\n",
       "    <tr>\n",
       "      <th>5</th>\n",
       "      <td>Mpumalanga</td>\n",
       "      <td>0.000038</td>\n",
       "      <td>353.740000</td>\n",
       "      <td>51.683493</td>\n",
       "      <td>52468</td>\n",
       "    </tr>\n",
       "    <tr>\n",
       "      <th>8</th>\n",
       "      <td>Western Cape</td>\n",
       "      <td>0.000006</td>\n",
       "      <td>5690.719298</td>\n",
       "      <td>47.963231</td>\n",
       "      <td>169247</td>\n",
       "    </tr>\n",
       "    <tr>\n",
       "      <th>2</th>\n",
       "      <td>Gauteng</td>\n",
       "      <td>0.000005</td>\n",
       "      <td>6129.381140</td>\n",
       "      <td>54.533112</td>\n",
       "      <td>389858</td>\n",
       "    </tr>\n",
       "    <tr>\n",
       "      <th>0</th>\n",
       "      <td>Eastern Cape</td>\n",
       "      <td>0.000000</td>\n",
       "      <td>NaN</td>\n",
       "      <td>52.611624</td>\n",
       "      <td>29644</td>\n",
       "    </tr>\n",
       "    <tr>\n",
       "      <th>1</th>\n",
       "      <td>Free State</td>\n",
       "      <td>0.000000</td>\n",
       "      <td>NaN</td>\n",
       "      <td>62.489406</td>\n",
       "      <td>8072</td>\n",
       "    </tr>\n",
       "    <tr>\n",
       "      <th>3</th>\n",
       "      <td>KwaZulu-Natal</td>\n",
       "      <td>0.000000</td>\n",
       "      <td>NaN</td>\n",
       "      <td>51.856673</td>\n",
       "      <td>164564</td>\n",
       "    </tr>\n",
       "    <tr>\n",
       "      <th>4</th>\n",
       "      <td>Limpopo</td>\n",
       "      <td>0.000000</td>\n",
       "      <td>NaN</td>\n",
       "      <td>58.829055</td>\n",
       "      <td>24683</td>\n",
       "    </tr>\n",
       "    <tr>\n",
       "      <th>6</th>\n",
       "      <td>North West</td>\n",
       "      <td>0.000000</td>\n",
       "      <td>NaN</td>\n",
       "      <td>50.639551</td>\n",
       "      <td>142720</td>\n",
       "    </tr>\n",
       "    <tr>\n",
       "      <th>7</th>\n",
       "      <td>Northern Cape</td>\n",
       "      <td>0.000000</td>\n",
       "      <td>NaN</td>\n",
       "      <td>48.369438</td>\n",
       "      <td>6364</td>\n",
       "    </tr>\n",
       "  </tbody>\n",
       "</table>\n",
       "</div>"
      ],
      "text/plain": [
       "        Province  claim_frequency  claim_severity     margin   count\n",
       "5     Mpumalanga         0.000038      353.740000  51.683493   52468\n",
       "8   Western Cape         0.000006     5690.719298  47.963231  169247\n",
       "2        Gauteng         0.000005     6129.381140  54.533112  389858\n",
       "0   Eastern Cape         0.000000             NaN  52.611624   29644\n",
       "1     Free State         0.000000             NaN  62.489406    8072\n",
       "3  KwaZulu-Natal         0.000000             NaN  51.856673  164564\n",
       "4        Limpopo         0.000000             NaN  58.829055   24683\n",
       "6     North West         0.000000             NaN  50.639551  142720\n",
       "7  Northern Cape         0.000000             NaN  48.369438    6364"
      ]
     },
     "execution_count": 10,
     "metadata": {},
     "output_type": "execute_result"
    }
   ],
   "source": [
    "# Create the has_claim and abs_claims columns if not already present\n",
    "df['has_claim'] = df['TotalClaims'] != 0\n",
    "df['abs_claims'] = df['TotalClaims'].abs()\n",
    "df['Margin'] = df['TotalPremium'] - df['TotalClaims']\n",
    "# Exclude provinces with very few policies for robust statistics\n",
    "province_counts = df['Province'].value_counts()\n",
    "valid_provinces = province_counts[province_counts >= 30].index\n",
    "df_valid = df[df['Province'].isin(valid_provinces)]\n",
    "\n",
    "# Group by Province and calculate metrics\n",
    "province_stats = df_valid.groupby('Province').agg(\n",
    "    claim_frequency=('has_claim', 'mean'),\n",
    "    claim_severity=('abs_claims', lambda x: x[x > 0].mean()),\n",
    "    margin=('Margin', 'mean'),\n",
    "    count=('PolicyID', 'count')\n",
    ").reset_index()\n",
    "\n",
    "province_stats = province_stats.sort_values('claim_frequency', ascending=False)\n",
    "province_stats"
   ]
  },
  {
   "cell_type": "markdown",
   "metadata": {},
   "source": [
    "## Statistical Test: Claim Frequency Across Provinces\n",
    "\n",
    "We use a chi-squared test to check if the differences in claim frequency across provinces are statistically significant. Given the extremely low frequency of claims, results should be interpreted with caution."
   ]
  },
  {
   "cell_type": "code",
   "execution_count": 11,
   "metadata": {},
   "outputs": [
    {
     "name": "stdout",
     "output_type": "stream",
     "text": [
      "Chi-squared statistic: 13.25\n",
      "p-value: 0.1035\n",
      "Fail to reject the null hypothesis: No significant differences in claim frequency across provinces.\n"
     ]
    }
   ],
   "source": [
    "from scipy.stats import chi2_contingency\n",
    "\n",
    "# Contingency table: rows=provinces, columns=has_claim (0/1)\n",
    "contingency = pd.crosstab(df_valid['Province'], df_valid['has_claim'])\n",
    "\n",
    "# Perform chi-squared test\n",
    "chi2, p, dof, expected = chi2_contingency(contingency)\n",
    "\n",
    "print(f'Chi-squared statistic: {chi2:.2f}')\n",
    "print(f'p-value: {p:.4f}')\n",
    "\n",
    "if p < 0.05:\n",
    "    print('Reject the null hypothesis: There are significant differences in claim frequency across provinces.')\n",
    "else:\n",
    "    print('Fail to reject the null hypothesis: No significant differences in claim frequency across provinces.')"
   ]
  },
  {
   "cell_type": "markdown",
   "metadata": {},
   "source": [
    "## Interpretation and Business Recommendation\n",
    "\n",
    "The chi-squared test for claim frequency across provinces resulted in a p-value of 0.1035.\n",
    "\n",
    "- Since p ≥ 0.01, we **fail to reject the null hypothesis**. This means there is no statistically significant difference in claim frequency across provinces in this dataset at the 0.01 significance level.\n",
    "- Given the extremely low frequency of claims, it is possible that real differences, if they exist, cannot be detected with the current data.\n",
    "\n",
    "**Business Recommendation:**  \n",
    "With the current data, there is insufficient evidence to adjust premiums or marketing strategy based on province alone. We recommend further data collection or review of claim reporting processes to ensure all claim events are captured, which may improve the power of future analyses."
   ]
  },
  {
   "cell_type": "markdown",
   "metadata": {},
   "source": [
    "## Visualization: Claim Frequency by Province\n",
    "\n",
    "We visualize the claim frequency across provinces to observe any apparent differences, even though the frequencies are extremely low."
   ]
  },
  {
   "cell_type": "code",
   "execution_count": 14,
   "metadata": {},
   "outputs": [
    {
     "data": {
      "image/png": "[encoded data removed]",
      "text/plain": [
       "<Figure size 1000x500 with 1 Axes>"
      ]
     },
     "metadata": {},
     "output_type": "display_data"
    }
   ],
   "source": [
    "import matplotlib.pyplot as plt\n",
    "import seaborn as sns\n",
    "\n",
    "plt.figure(figsize=(10, 5))\n",
    "sns.barplot(data=province_stats, x='Province', y='claim_frequency')\n",
    "plt.title('Claim Frequency by Province')\n",
    "plt.ylabel('Claim Frequency')\n",
    "plt.xlabel('Province')\n",
    "plt.xticks(rotation=45)\n",
    "plt.show()"
   ]
  },
  {
   "cell_type": "markdown",
   "metadata": {},
   "source": []
  },
  {
   "cell_type": "markdown",
   "metadata": {},
   "source": [
    "## Hypothesis 2: Risk Differences Between Women and Men\n",
    "\n",
    "**Null Hypothesis (H₀):** There are no significant risk differences between Women and Men.\n",
    "**Alternative Hypothesis (H₁):** There are significant risk differences between Women and Men.\n",
    "\n",
    "We will compare claim frequency, claim severity, and margin between genders using appropriate statistical tests."
   ]
  },
  {
   "cell_type": "code",
   "execution_count": 12,
   "metadata": {},
   "outputs": [
    {
     "data": {
      "text/html": [
       "<div>\n",
       "<style scoped>\n",
       "    .dataframe tbody tr th:only-of-type {\n",
       "        vertical-align: middle;\n",
       "    }\n",
       "\n",
       "    .dataframe tbody tr th {\n",
       "        vertical-align: top;\n",
       "    }\n",
       "\n",
       "    .dataframe thead th {\n",
       "        text-align: right;\n",
       "    }\n",
       "</style>\n",
       "<table border=\"1\" class=\"dataframe\">\n",
       "  <thead>\n",
       "    <tr style=\"text-align: right;\">\n",
       "      <th></th>\n",
       "      <th>Gender</th>\n",
       "      <th>claim_frequency</th>\n",
       "      <th>claim_severity</th>\n",
       "      <th>margin</th>\n",
       "      <th>count</th>\n",
       "    </tr>\n",
       "  </thead>\n",
       "  <tbody>\n",
       "    <tr>\n",
       "      <th>2</th>\n",
       "      <td>Not specified</td>\n",
       "      <td>0.000005</td>\n",
       "      <td>3731.392316</td>\n",
       "      <td>52.976480</td>\n",
       "      <td>928879</td>\n",
       "    </tr>\n",
       "    <tr>\n",
       "      <th>0</th>\n",
       "      <td>Female</td>\n",
       "      <td>0.000000</td>\n",
       "      <td>NaN</td>\n",
       "      <td>37.828132</td>\n",
       "      <td>6690</td>\n",
       "    </tr>\n",
       "    <tr>\n",
       "      <th>1</th>\n",
       "      <td>Male</td>\n",
       "      <td>0.000000</td>\n",
       "      <td>NaN</td>\n",
       "      <td>34.005761</td>\n",
       "      <td>42590</td>\n",
       "    </tr>\n",
       "  </tbody>\n",
       "</table>\n",
       "</div>"
      ],
      "text/plain": [
       "          Gender  claim_frequency  claim_severity     margin   count\n",
       "2  Not specified         0.000005     3731.392316  52.976480  928879\n",
       "0         Female         0.000000             NaN  37.828132    6690\n",
       "1           Male         0.000000             NaN  34.005761   42590"
      ]
     },
     "execution_count": 12,
     "metadata": {},
     "output_type": "execute_result"
    }
   ],
   "source": [
    "# Exclude missing gender values\n",
    "df_gender = df_valid[df_valid['Gender'].notnull()]\n",
    "\n",
    "# Group by Gender and calculate metrics\n",
    "gender_stats = df_gender.groupby('Gender').agg(\n",
    "    claim_frequency=('has_claim', 'mean'),\n",
    "    claim_severity=('abs_claims', lambda x: x[x > 0].mean()),\n",
    "    margin=('Margin', 'mean'),\n",
    "    count=('PolicyID', 'count')\n",
    ").reset_index()\n",
    "\n",
    "gender_stats = gender_stats.sort_values('claim_frequency', ascending=False)\n",
    "gender_stats"
   ]
  },
  {
   "cell_type": "markdown",
   "metadata": {},
   "source": [
    "## Visualization: Claim Frequency by Gender\n",
    "\n",
    "We visualize the claim frequency for each gender to observe any apparent differences."
   ]
  },
  {
   "cell_type": "code",
   "execution_count": 15,
   "metadata": {},
   "outputs": [
    {
     "data": {
      "image/png": "[encoded data removed]",
      "text/plain": [
       "<Figure size 600x400 with 1 Axes>"
      ]
     },
     "metadata": {},
     "output_type": "display_data"
    }
   ],
   "source": [
    "plt.figure(figsize=(6, 4))\n",
    "sns.barplot(data=gender_stats, x='Gender', y='claim_frequency')\n",
    "plt.title('Claim Frequency by Gender')\n",
    "plt.ylabel('Claim Frequency')\n",
    "plt.xlabel('Gender')\n",
    "plt.show()"
   ]
  },
  {
   "cell_type": "markdown",
   "metadata": {},
   "source": [
    "## Statistical Test: Claim Frequency Between Women and Men\n",
    "\n",
    "We use a chi-squared test to check if the differences in claim frequency between genders are statistically significant."
   ]
  },
  {
   "cell_type": "code",
   "execution_count": 16,
   "metadata": {},
   "outputs": [
    {
     "name": "stdout",
     "output_type": "stream",
     "text": [
      "Chi-squared statistic: 0.27\n",
      "p-value: 0.8758\n",
      "Fail to reject the null hypothesis: No significant differences in claim frequency between Women and Men.\n"
     ]
    }
   ],
   "source": [
    "# Contingency table: rows=Gender, columns=has_claim (0/1)\n",
    "contingency_gender = pd.crosstab(df_gender['Gender'], df_gender['has_claim'])\n",
    "\n",
    "# Perform chi-squared test\n",
    "chi2_gender, p_gender, dof_gender, expected_gender = chi2_contingency(contingency_gender)\n",
    "\n",
    "print(f'Chi-squared statistic: {chi2_gender:.2f}')\n",
    "print(f'p-value: {p_gender:.4f}')\n",
    "\n",
    "if p_gender < 0.05:\n",
    "    print('Reject the null hypothesis: There are significant differences in claim frequency between Women and Men.')\n",
    "else:\n",
    "    print('Fail to reject the null hypothesis: No significant differences in claim frequency between Women and Men.')"
   ]
  },
  {
   "cell_type": "markdown",
   "metadata": {},
   "source": [
    "## Interpretation and Business Recommendation\n",
    "\n",
    "The chi-squared test for claim frequency between Women and Men resulted in a p-value of **0.8758**.\n",
    "\n",
    "- Since **p ≥ 0.01**, we **fail to reject the null hypothesis**. This means there is no statistically significant difference in claim frequency between Women and Men in this dataset at the 0.01 significance level.\n",
    "- Given the extremely low frequency of claims, it is possible that real differences, if they exist, cannot be detected with the current data.\n",
    "\n",
    "**Business Recommendation:**  \n",
    "With the current data, there is insufficient evidence to justify adjusting premiums or marketing strategies based on gender. We recommend maintaining current practices regarding gender segmentation. Additionally, we suggest further data collection or a review of claim reporting processes to ensure all claim events are accurately captured, which may improve the power of future analyses."
   ]
  },
  {
   "cell_type": "markdown",
   "metadata": {},
   "source": [
    "## Hypothesis 3: Risk Differences Between Zip Codes\n",
    "\n",
    "**Null Hypothesis (H₀):** There are no risk differences between zip codes.\n",
    "**Alternative Hypothesis (H₁):** There are significant risk differences between zip codes.\n",
    "\n",
    "We will compare claim frequency, claim severity, and margin across zip codes using appropriate statistical tests. For practicality, we will focus on the top 10 zip codes by policy count."
   ]
  },
  {
   "cell_type": "code",
   "execution_count": 17,
   "metadata": {},
   "outputs": [
    {
     "data": {
      "text/html": [
       "<div>\n",
       "<style scoped>\n",
       "    .dataframe tbody tr th:only-of-type {\n",
       "        vertical-align: middle;\n",
       "    }\n",
       "\n",
       "    .dataframe tbody tr th {\n",
       "        vertical-align: top;\n",
       "    }\n",
       "\n",
       "    .dataframe thead th {\n",
       "        text-align: right;\n",
       "    }\n",
       "</style>\n",
       "<table border=\"1\" class=\"dataframe\">\n",
       "  <thead>\n",
       "    <tr style=\"text-align: right;\">\n",
       "      <th></th>\n",
       "      <th>PostalCode</th>\n",
       "      <th>claim_frequency</th>\n",
       "      <th>claim_severity</th>\n",
       "      <th>margin</th>\n",
       "      <th>count</th>\n",
       "    </tr>\n",
       "  </thead>\n",
       "  <tbody>\n",
       "    <tr>\n",
       "      <th>0</th>\n",
       "      <td>122</td>\n",
       "      <td>0.0</td>\n",
       "      <td>NaN</td>\n",
       "      <td>49.778427</td>\n",
       "      <td>48713</td>\n",
       "    </tr>\n",
       "    <tr>\n",
       "      <th>1</th>\n",
       "      <td>299</td>\n",
       "      <td>0.0</td>\n",
       "      <td>NaN</td>\n",
       "      <td>53.516180</td>\n",
       "      <td>25444</td>\n",
       "    </tr>\n",
       "    <tr>\n",
       "      <th>2</th>\n",
       "      <td>458</td>\n",
       "      <td>0.0</td>\n",
       "      <td>NaN</td>\n",
       "      <td>50.525303</td>\n",
       "      <td>13734</td>\n",
       "    </tr>\n",
       "    <tr>\n",
       "      <th>3</th>\n",
       "      <td>470</td>\n",
       "      <td>0.0</td>\n",
       "      <td>NaN</td>\n",
       "      <td>58.222326</td>\n",
       "      <td>10180</td>\n",
       "    </tr>\n",
       "    <tr>\n",
       "      <th>4</th>\n",
       "      <td>1724</td>\n",
       "      <td>0.0</td>\n",
       "      <td>NaN</td>\n",
       "      <td>39.280641</td>\n",
       "      <td>10037</td>\n",
       "    </tr>\n",
       "    <tr>\n",
       "      <th>5</th>\n",
       "      <td>2000</td>\n",
       "      <td>0.0</td>\n",
       "      <td>NaN</td>\n",
       "      <td>58.283835</td>\n",
       "      <td>132576</td>\n",
       "    </tr>\n",
       "    <tr>\n",
       "      <th>6</th>\n",
       "      <td>2196</td>\n",
       "      <td>0.0</td>\n",
       "      <td>NaN</td>\n",
       "      <td>116.333731</td>\n",
       "      <td>10899</td>\n",
       "    </tr>\n",
       "    <tr>\n",
       "      <th>7</th>\n",
       "      <td>7405</td>\n",
       "      <td>0.0</td>\n",
       "      <td>NaN</td>\n",
       "      <td>46.459947</td>\n",
       "      <td>18418</td>\n",
       "    </tr>\n",
       "    <tr>\n",
       "      <th>8</th>\n",
       "      <td>7784</td>\n",
       "      <td>0.0</td>\n",
       "      <td>NaN</td>\n",
       "      <td>41.979247</td>\n",
       "      <td>28341</td>\n",
       "    </tr>\n",
       "    <tr>\n",
       "      <th>9</th>\n",
       "      <td>8000</td>\n",
       "      <td>0.0</td>\n",
       "      <td>NaN</td>\n",
       "      <td>72.860637</td>\n",
       "      <td>11613</td>\n",
       "    </tr>\n",
       "  </tbody>\n",
       "</table>\n",
       "</div>"
      ],
      "text/plain": [
       "   PostalCode  claim_frequency  claim_severity      margin   count\n",
       "0         122              0.0             NaN   49.778427   48713\n",
       "1         299              0.0             NaN   53.516180   25444\n",
       "2         458              0.0             NaN   50.525303   13734\n",
       "3         470              0.0             NaN   58.222326   10180\n",
       "4        1724              0.0             NaN   39.280641   10037\n",
       "5        2000              0.0             NaN   58.283835  132576\n",
       "6        2196              0.0             NaN  116.333731   10899\n",
       "7        7405              0.0             NaN   46.459947   18418\n",
       "8        7784              0.0             NaN   41.979247   28341\n",
       "9        8000              0.0             NaN   72.860637   11613"
      ]
     },
     "execution_count": 17,
     "metadata": {},
     "output_type": "execute_result"
    }
   ],
   "source": [
    "# Focus on top 10 zip codes by policy count for robust statistics\n",
    "top_zipcodes = df_valid['PostalCode'].value_counts().head(10).index\n",
    "df_zip = df_valid[df_valid['PostalCode'].isin(top_zipcodes)]\n",
    "\n",
    "# Group by PostalCode and calculate metrics\n",
    "zip_stats = df_zip.groupby('PostalCode').agg(\n",
    "    claim_frequency=('has_claim', 'mean'),\n",
    "    claim_severity=('abs_claims', lambda x: x[x > 0].mean()),\n",
    "    margin=('Margin', 'mean'),\n",
    "    count=('PolicyID', 'count')\n",
    ").reset_index()\n",
    "\n",
    "zip_stats = zip_stats.sort_values('claim_frequency', ascending=False)\n",
    "zip_stats"
   ]
  },
  {
   "cell_type": "markdown",
   "metadata": {},
   "source": [
    "## Visualization: Claim Frequency by Zip Code\n",
    "\n",
    "We visualize the claim frequency for the top 10 zip codes to observe any apparent differences."
   ]
  },
  {
   "cell_type": "code",
   "execution_count": 18,
   "metadata": {},
   "outputs": [
    {
     "data": {
      "image/png": "[encoded data removed]",
      "text/plain": [
       "<Figure size 1000x500 with 1 Axes>"
      ]
     },
     "metadata": {},
     "output_type": "display_data"
    }
   ],
   "source": [
    "plt.figure(figsize=(10, 5))\n",
    "sns.barplot(data=zip_stats, x='PostalCode', y='claim_frequency')\n",
    "plt.title('Claim Frequency by Zip Code (Top 10)')\n",
    "plt.ylabel('Claim Frequency')\n",
    "plt.xlabel('Zip Code')\n",
    "plt.show()"
   ]
  },
  {
   "cell_type": "markdown",
   "metadata": {},
   "source": [
    "## Statistical Test: Claim Frequency Across Zip Codes\n",
    "\n",
    "We use a chi-squared test to check if the differences in claim frequency across the top 10 zip codes are statistically significant."
   ]
  },
  {
   "cell_type": "code",
   "execution_count": 19,
   "metadata": {},
   "outputs": [
    {
     "name": "stdout",
     "output_type": "stream",
     "text": [
      "Chi-squared statistic: 0.00\n",
      "p-value: 1.0000\n",
      "Fail to reject the null hypothesis: No significant differences in claim frequency across zip codes.\n"
     ]
    }
   ],
   "source": [
    "# Contingency table: rows=PostalCode, columns=has_claim (0/1)\n",
    "contingency_zip = pd.crosstab(df_zip['PostalCode'], df_zip['has_claim'])\n",
    "\n",
    "# Perform chi-squared test\n",
    "chi2_zip, p_zip, dof_zip, expected_zip = chi2_contingency(contingency_zip)\n",
    "\n",
    "print(f'Chi-squared statistic: {chi2_zip:.2f}')\n",
    "print(f'p-value: {p_zip:.4f}')\n",
    "\n",
    "if p_zip < 0.05:\n",
    "    print('Reject the null hypothesis: There are significant differences in claim frequency across zip codes.')\n",
    "else:\n",
    "    print('Fail to reject the null hypothesis: No significant differences in claim frequency across zip codes.')"
   ]
  },
  {
   "cell_type": "markdown",
   "metadata": {},
   "source": [
    "## Interpretation and Business Recommendation\n",
    "\n",
    "The chi-squared test for claim frequency across zip codes resulted in a p-value of **1.0000**.\n",
    "\n",
    "- Since **p ≥ 0.01**, we **fail to reject the null hypothesis**. This means there is no statistically significant difference in claim frequency across zip codes in this dataset.\n",
    "- Given the extremely low frequency of claims, it is possible that real differences, if they exist, cannot be detected with the current data.\n",
    "\n",
    "**Business Recommendation:**  \n",
    "With the current data, there is insufficient evidence to justify adjusting premiums or marketing strategies based on zip code. We recommend maintaining current practices regarding zip code segmentation. Additionally, we suggest further data collection or a review of claim reporting processes to ensure all claim events are accurately captured, which may improve the power of future analyses."
   ]
  },
  {
   "cell_type": "markdown",
   "metadata": {},
   "source": [
    "## Hypothesis 4: Margin Differences Between Zip Codes\n",
    "\n",
    "**Null Hypothesis (H₀):** There are no significant margin (profit) differences between zip codes.\n",
    "**Alternative Hypothesis (H₁):** There are significant margin differences between zip codes.\n",
    "\n",
    "We will use the Kruskal-Wallis test (a non-parametric alternative to ANOVA) to compare the margin across the top 10 zip codes."
   ]
  },
  {
   "cell_type": "code",
   "execution_count": 20,
   "metadata": {},
   "outputs": [
    {
     "name": "stdout",
     "output_type": "stream",
     "text": [
      "Kruskal-Wallis statistic: 6044.66\n",
      "p-value: 0.0000\n",
      "Reject the null hypothesis: There are significant margin differences between zip codes.\n"
     ]
    }
   ],
   "source": [
    "from scipy.stats import kruskal\n",
    "\n",
    "# Prepare margin data for each zip code\n",
    "margin_groups = [df_zip[df_zip['PostalCode'] == z]['Margin'] for z in top_zipcodes]\n",
    "\n",
    "# Perform Kruskal-Wallis test\n",
    "stat, p_margin = kruskal(*margin_groups)\n",
    "\n",
    "print(f'Kruskal-Wallis statistic: {stat:.2f}')\n",
    "print(f'p-value: {p_margin:.4f}')\n",
    "\n",
    "if p_margin < 0.05:\n",
    "    print('Reject the null hypothesis: There are significant margin differences between zip codes.')\n",
    "else:\n",
    "    print('Fail to reject the null hypothesis: No significant margin differences between zip codes.')"
   ]
  },
  {
   "cell_type": "markdown",
   "metadata": {},
   "source": [
    "## Interpretation and Business Recommendation\n",
    "\n",
    "The Kruskal-Wallis test for margin differences between zip codes resulted in a p-value of **0.0000**.\n",
    "\n",
    "- Since **p < 0.01**, we **reject the null hypothesis**. This means there are statistically significant differences in margin (profit) between zip codes in this dataset at the 0.01 significance level.\n",
    "- However, given the extremely low frequency of claims, these margin differences may be driven more by differences in premium collection or other factors, rather than true differences in claim risk.\n",
    "\n",
    "**Business Recommendation:**  \n",
    "There is strong statistical evidence of margin differences between zip codes. This suggests that some zip codes may be more profitable than others, potentially due to differences in premium pricing, claim reporting, or customer characteristics. We recommend a deeper investigation into the underlying causes of these margin differences. If these differences are found to be robust and meaningful, consider adjusting pricing strategies or marketing efforts to optimize profitability by zip code. Additionally, ensure claim reporting is consistent across regions to avoid data artifacts."
   ]
  },
  {
   "cell_type": "markdown",
   "metadata": {},
   "source": [
    "# Task 3 Summary\n",
    "\n",
    "In this analysis, we tested several hypotheses regarding risk and margin differences across provinces, zip codes, and gender. Using a significance threshold of **p < 0.01**, we found:\n",
    "\n",
    "- **No statistically significant differences** in claim frequency across provinces, zip codes, or gender (all p-values ≥ 0.01). The extremely low frequency of claims in the dataset limits our ability to detect real differences, if they exist.\n",
    "- **Statistically significant differences in margin (profit) between zip codes** (p < 0.01). This suggests that some zip codes may be more profitable than others, potentially due to differences in premium pricing, claim reporting, or customer characteristics.\n",
    "\n",
    "**Key Recommendations:**\n",
    "- There is insufficient evidence to adjust premiums or marketing by province or gender with current data.\n",
    "- Margin differences by zip code warrant further investigation and may justify targeted pricing or marketing strategies if confirmed to be robust and meaningful.\n",
    "- We recommend further data collection and a review of claim reporting processes to ensure all claim events are accurately captured, which may improve the power of future analyses.\n",
    "\n",
    "All code, results, and recommendations are documented above."
   ]
  }
 ],
 "metadata": {
  "kernelspec": {
   "display_name": "venv",
   "language": "python",
   "name": "python3"
  },
  "language_info": {
   "codemirror_mode": {
    "name": "ipython",
    "version": 3
   },
   "file_extension": ".py",
   "mimetype": "text/x-python",
   "name": "python",
   "nbconvert_exporter": "python",
   "pygments_lexer": "ipython3",
   "version": "3.8.18"
  }
 },
 "nbformat": 4,
 "nbformat_minor": 2
}
